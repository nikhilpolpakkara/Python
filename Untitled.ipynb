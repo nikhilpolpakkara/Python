{
 "cells": [
  {
   "cell_type": "code",
   "execution_count": 1,
   "metadata": {},
   "outputs": [],
   "source": [
    "from asammdf import MDF\n",
    "import easygui\n",
    "import pandas as pd\n",
    "import glob, os\n",
    "import warnings\n",
    "warnings.filterwarnings(\"ignore\")\n",
    "import numpy as np\n",
    "import matplotlib.pyplot as plt\n",
    "import seaborn as sns\n",
    "from scipy.stats import binned_statistic_2d "
   ]
  },
  {
   "cell_type": "markdown",
   "metadata": {},
   "source": [
    "**Reading INCA recording and converting it into pandas dataframe**"
   ]
  },
  {
   "cell_type": "code",
   "execution_count": 2,
   "metadata": {},
   "outputs": [],
   "source": [
    "plt.close('all')\n",
    "#asks the dat file from user\n",
    "datFiles = easygui.fileopenbox(msg='Select dat files', default='*.dat', multiple = True)\n",
    "#get the folderpath of dat file\n",
    "folderPath = os.path.dirname(datFiles[0])\n",
    "#dictionary of dataframes\n",
    "dfs = {}\n",
    "for datFile in datFiles:\n",
    "    #get the basename of the file \n",
    "    baseName = os.path.basename(datFile)[:-4]\n",
    "    modalFileName = baseName + \".xls\"\n",
    "    modalFilePath = os.path.join(folderPath, modalFileName)\n",
    "    #create directory to store all the plots\n",
    "    graphFolderPath = os.path.join(folderPath, baseName)\n",
    "    if not os.path.exists(graphFolderPath):\n",
    "        os.mkdir(graphFolderPath)\n",
    "    xlsModalFile = pd.ExcelFile(modalFilePath)\n",
    "    #reading the modal data\n",
    "    dfModal = xlsModalFile.parse('Data')\n",
    "    #reading the mdf file\n",
    "    mdf = MDF(datFile)\n",
    "    #getting all signals in mdf object\n",
    "    allSignals = list(mdf.channels_db.keys())\n",
    "    measuredSignals = []\n",
    "    #remove signals with CPP in it\n",
    "    for signal in allSignals:\n",
    "        if not((\"CCP\" in signal) or (\"_sword\" in signal) or \"$\" in signal):\n",
    "            measuredSignals.append(signal)\n",
    "    #creating an empty list of important signals\n",
    "    impSignals = ['cps_n_engine', 'egr_b_operate_valve', \n",
    "                      'egr_T_exhaust_temperature', 'egr_T_oil_temperature',\n",
    "                      'egr_T_limiting_temp_low', 'egr_T_limiting_temp_high',\n",
    "                      'egr_P_exhaustp']\n",
    "    df = mdf.to_dataframe(\n",
    "            channels=impSignals,\n",
    "            raster= 'egr_b_operate_valve',\n",
    "            time_from_zero=True,\n",
    "            empty_channels=\"zeros\",\n",
    "            keep_arrays=False,\n",
    "            use_display_names=True,\n",
    "            time_as_date=True,\n",
    "            reduce_memory_usage=True,\n",
    "            raw=False,\n",
    "            ignore_value2text_conversions=False)\n",
    "    #remove \\CCP from column names of dataframe\n",
    "    df.columns = [col.split('\\\\')[0] for col in df.columns]\n",
    "    \n",
    "    df = df.resample('S').mean()\n",
    "    mdf.close()"
   ]
  },
  {
   "cell_type": "markdown",
   "metadata": {},
   "source": [
    "**Capturing MODAL data **"
   ]
  },
  {
   "cell_type": "code",
   "execution_count": null,
   "metadata": {},
   "outputs": [],
   "source": [
    " for datFile in datFiles:\n",
    "        #get the basename of the file \n",
    "        baseName = os.path.basename(datFile)[:-4]\n",
    "        modalFileName = baseName + \".xls\"\n",
    "        modalFilePath = os.path.join(folderPath, modalFileName)\n",
    "        #create directory to store all the plots\n",
    "        graphFolderPath = os.path.join(folderPath, baseName)\n",
    "        if not os.path.exists(graphFolderPath):\n",
    "            os.mkdir(graphFolderPath)\n",
    "        xlsModalFile = pd.ExcelFile(modalFilePath)\n",
    "        #reading the modal data\n",
    "        dfModal = xlsModalFile.parse('Data')"
   ]
  }
 ],
 "metadata": {
  "kernelspec": {
   "display_name": "Python 3",
   "language": "python",
   "name": "python3"
  },
  "language_info": {
   "codemirror_mode": {
    "name": "ipython",
    "version": 3
   },
   "file_extension": ".py",
   "mimetype": "text/x-python",
   "name": "python",
   "nbconvert_exporter": "python",
   "pygments_lexer": "ipython3",
   "version": "3.7.4"
  }
 },
 "nbformat": 4,
 "nbformat_minor": 2
}
