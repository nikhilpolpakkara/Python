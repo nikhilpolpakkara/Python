{
 "cells": [
  {
   "cell_type": "code",
   "execution_count": 4,
   "metadata": {
    "code_folding": []
   },
   "outputs": [
    {
     "name": "stdout",
     "output_type": "stream",
     "text": [
      "Sl.no\n",
      "1      115.034065\n",
      "2      114.544998\n",
      "3      114.154549\n",
      "4      114.762001\n",
      "5      113.762001\n",
      "          ...    \n",
      "356     35.748001\n",
      "357     30.118999\n",
      "358     30.000000\n",
      "359     30.000000\n",
      "360     30.000000\n",
      "Name: egr_P_exhaustp, Length: 360, dtype: float32\n"
     ]
    },
    {
     "data": {
      "text/plain": [
       "\"    \\ndef graph(x,a,b)\\n    graph_ = x.plot(x='a',y='b',xticks= RPM,kind = 'line',grid=True)\\n    plt.grid(linestyle='dotted')\\n    plt.xlabel('RPM')\\n    plt.ylabel('mbar')\\n    plt.title('Exhaust Back Pressure')\\n\""
      ]
     },
     "execution_count": 4,
     "metadata": {},
     "output_type": "execute_result"
    }
   ],
   "source": [
    "from asammdf import MDF\n",
    "import easygui\n",
    "import pandas as pd\n",
    "import glob, os\n",
    "import warnings\n",
    "warnings.filterwarnings(\"ignore\")\n",
    "import numpy as np\n",
    "import matplotlib.pyplot as plt\n",
    "import seaborn as sns\n",
    "from scipy.stats import binned_statistic_2d \n",
    "\n",
    "def Pressure_df(x):\n",
    "    RPM = [3400,3200,3000,2800,2600,2400,2200,2000,1800,1600,1400,1200]\n",
    "    mean_pres = []\n",
    "    for i in RPM:\n",
    "        df_i = x[(x['cps_n_engine'] > i-50) & (x['cps_n_engine'] < i+50)]\n",
    "        a = df_i['egr_P_exhaustp'].mean()\n",
    "        mean_pres.append(a)\n",
    "    pres_dict = {'Engine Speed':RPM,'Mean Pressure':mean_pres}\n",
    "    df_mean_pres = pd.DataFrame(pres_dict)\n",
    "    df_mean_pres.set_index(df_mean_pres['Engine Speed'])\n",
    "    graph_ = df_mean_pres.plot(x='Engine Speed',y='Mean Pressure',xticks= RPM,kind = 'line',grid=True)\n",
    "\n",
    "datFiles = easygui.fileopenbox(msg='Select dat files', default='*.dat', multiple = True)\n",
    "#get the folderpath of dat file\n",
    "folderPath = os.path.dirname(datFiles[0])\n",
    "\n",
    "#def read_df():\n",
    "dfs = {}\n",
    "for datFile in datFiles:\n",
    "    mdf = MDF(datFile)\n",
    "    allSignals = list(mdf.channels_db.keys())\n",
    "    measuredSignals = []\n",
    "    #remove signals with CPP in it\n",
    "    for signal in allSignals:\n",
    "        if not((\"CCP\" in signal) or (\"_sword\" in signal) or \"$\" in signal):\n",
    "            measuredSignals.append(signal)\n",
    "        #creating an empty list of important signals\n",
    "    impSignals = ['cps_n_engine', 'egr_b_operate_valve', \n",
    "                     'egr_T_exhaust_temperature', 'egr_T_oil_temperature',\n",
    "                     'egr_T_limiting_temp_low', 'egr_T_limiting_temp_high',\n",
    "                     'egr_P_exhaustp']\n",
    "    df = mdf.to_dataframe(\n",
    "            channels=impSignals,\n",
    "            raster= 'egr_b_operate_valve',\n",
    "            time_from_zero=True,\n",
    "            empty_channels=\"zeros\",\n",
    "    #              keep_arrays=False,\n",
    "            use_display_names=True,\n",
    "            time_as_date=True,\n",
    "            reduce_memory_usage=True,\n",
    "            raw=False,\n",
    "            ignore_value2text_conversions=False)\n",
    "    #remove \\CCP from column names of dataframe\n",
    "    df.columns = [col.split('\\\\')[0] for col in df.columns]\n",
    "    #resampling the data to 1 second\n",
    "    df = df.resample('S').mean()\n",
    "        \n",
    "    n_i = list(range(1,len(df['egr_b_operate_valve'])+1))\n",
    "    df['Sl.no'] = n_i\n",
    "    df.set_index('Sl.no',inplace=True)\n",
    "    \n",
    "    print(df.egr_P_exhaustp.values)\n",
    "    \n",
    "\"\"\"   \n",
    "    #Pressure_df(df)\n",
    "    plt.grid(linestyle='dotted')\n",
    "    plt.xlabel('RPM')\n",
    "    plt.ylabel('mbar')\n",
    "    plt.title('Exhaust Back Pressure')\n",
    "    plt.show()\n",
    "    mdf.close()\n",
    "\"\"\"\n",
    "\"\"\"    \n",
    "def graph(x,a,b)\n",
    "    graph_ = x.plot(x='a',y='b',xticks= RPM,kind = 'line',grid=True)\n",
    "    plt.grid(linestyle='dotted')\n",
    "    plt.xlabel('RPM')\n",
    "    plt.ylabel('mbar')\n",
    "    plt.title('Exhaust Back Pressure')\n",
    "\"\"\"   \n"
   ]
  },
  {
   "cell_type": "code",
   "execution_count": null,
   "metadata": {},
   "outputs": [],
   "source": []
  }
 ],
 "metadata": {
  "hide_input": false,
  "kernelspec": {
   "display_name": "Python 3",
   "language": "python",
   "name": "python3"
  },
  "language_info": {
   "codemirror_mode": {
    "name": "ipython",
    "version": 3
   },
   "file_extension": ".py",
   "mimetype": "text/x-python",
   "name": "python",
   "nbconvert_exporter": "python",
   "pygments_lexer": "ipython3",
   "version": "3.7.6"
  }
 },
 "nbformat": 4,
 "nbformat_minor": 2
}
