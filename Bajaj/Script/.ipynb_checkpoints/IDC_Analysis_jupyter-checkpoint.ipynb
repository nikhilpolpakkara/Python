{
 "cells": [
  {
   "cell_type": "code",
   "execution_count": null,
   "metadata": {
    "scrolled": false,
    "slideshow": {
     "slide_type": "-"
    }
   },
   "outputs": [],
   "source": [
    "from asammdf import MDF\n",
    "import easygui\n",
    "import pandas as pd\n",
    "import glob, os\n",
    "import warnings\n",
    "warnings.filterwarnings(\"ignore\")\n",
    "import numpy as np\n",
    "import matplotlib.pyplot as plt\n",
    "import seaborn as sns\n",
    "from scipy.stats import binned_statistic_2d \n",
    "\n",
    "def graph(x):\n",
    "    xtick = [108,216,324,432,540,648,756]\n",
    "    graph_ = x.plot(kind='line',figsize=(10, 6), rot=90,xticks=xtick,grid=True,legend=True) \n",
    "    plt.grid(linestyle='dotted')\n",
    "    plt.xlabel('time(s)')\n",
    "    plt.ylabel('mg')\n",
    "    plt.title(x.name+\" Modal\")\n",
    "    \n",
    "\n",
    "def readModal(folder, baseName):\n",
    "    filePath = os.path.join(folder, baseName)\n",
    "    xlsFile = pd.ExcelFile(filePath)\n",
    "    dfModal = xlsFile.parse('Data')\n",
    "    return dfModal\n",
    "\n",
    "def determineShift(x, y):\n",
    "    \"\"\"\n",
    "    Returns the value by which y should be shifted to left\n",
    "    \"\"\"\n",
    "    assert len(x) == len(y)\n",
    "    corr = np.correlate(x, y, \"full\")\n",
    "    zeroIndex = len(x) - 1\n",
    "    print(np.argmax(corr))\n",
    "    print(zeroIndex)\n",
    "    return zeroIndex - np.argmax(corr)\n",
    "\n",
    "def heatMap(x, y, z, xbins, ybins, title = \"\", \n",
    "            method = \"count\", scatterXlabel = \"RPM[rpm]\", \n",
    "            scatterYlabel = \"Exhaust Temperature[C]\", cmap = \"YlGnBu\", **kwargs):\n",
    "    \"\"\"\n",
    "    This function bins the values according to method. It also plots the graph.\n",
    "    It returns the dataframe\n",
    "    \"\"\"\n",
    "    binplot, xedges, yedges, binIndex = binned_statistic_2d(x, y, z, statistic= method, bins=(xbins,ybins))\n",
    "    binplot[np.isnan(binplot)] = 0\n",
    "    #normalising\n",
    "    if method == \"count\":\n",
    "        binplot = binplot/np.cumsum(binplot)[-1]*100\n",
    "        print(np.sum(binplot))\n",
    "    binplot = binplot.T\n",
    "    binplot = binplot[::-1]\n",
    "    xmid = list(zip(xedges[:-1], xedges[1:]))\n",
    "    ymid = list(zip(yedges[:-1], yedges[1:]))\n",
    "    ymid = ymid[::-1]\n",
    "    binplotdf = pd.DataFrame(binplot)\n",
    "    binplotdf.columns = xmid\n",
    "    binplotdf.index = ymid\n",
    "    plt.figure(figsize=(11.7, 8.3))\n",
    "    ax = sns.heatmap(binplotdf, annot=True, fmt=\"0.1f\", cmap=\"YlGnBu\")\n",
    "    ax.set(title = title, xlabel = scatterXlabel, \n",
    "                 ylabel = scatterYlabel)\n",
    "    ax.set_xticklabels(ax.get_xticklabels(), \n",
    "                       rotation=45, \n",
    "                       horizontalalignment='right')\n",
    "    return binplotdf\n",
    "if __name__ == \"__main__\":\n",
    "    #close all the figures\n",
    "    plt.close('all')\n",
    "    #asks the dat file from user\n",
    "    datFiles = easygui.fileopenbox(msg='Select dat files', default='*.dat', multiple = True)\n",
    "    #get the folderpath of dat file\n",
    "    folderPath = os.path.dirname(datFiles[0])\n",
    "    #dictionary of dataframes\n",
    "    dfs = {}\n",
    "    for datFile in datFiles:\n",
    "        #get the basename of the file \n",
    "        baseName = os.path.basename(datFile)[:-4]\n",
    "        modalFileName = baseName + \"_MODAL.xls\"\n",
    "        modalFilePath = os.path.join(folderPath, modalFileName)\n",
    "        #create directory to store all the plots\n",
    "        graphFolderPath = os.path.join(folderPath, baseName)\n",
    "        if not os.path.exists(graphFolderPath):\n",
    "            os.mkdir(graphFolderPath)\n",
    "        xlsModalFile = pd.ExcelFile(modalFilePath)\n",
    "        #reading the modal data\n",
    "        dfModal = xlsModalFile.parse('Data')\n",
    "        #reading the mdf file\n",
    "        mdf = MDF(datFile)\n",
    "        #getting all signals in mdf object\n",
    "        allSignals = list(mdf.channels_db.keys())\n",
    "        measuredSignals = []\n",
    "        #remove signals with CPP in it\n",
    "        for signal in allSignals:\n",
    "            if not((\"CCP\" in signal) or (\"_sword\" in signal) or \"$\" in signal):\n",
    "                measuredSignals.append(signal)\n",
    "        #creating an empty list of important signals\n",
    "        impSignals = ['cps_n_engine', 'egr_b_operate_valve', \n",
    "                      'egr_T_exhaust_temperature', 'egr_T_oil_temperature',\n",
    "                      'egr_T_limiting_temp_low', 'egr_T_limiting_temp_high',\n",
    "                      'egr_P_exhaustp','egr_P_intakep_min',#'egr_P_intakep'\n",
    "                      ]\n",
    "        df = mdf.to_dataframe(\n",
    "                channels=impSignals,\n",
    "                raster= 'egr_b_operate_valve',\n",
    "                time_from_zero=True,\n",
    "                empty_channels=\"zeros\",\n",
    "                keep_arrays=False,\n",
    "                use_display_names=True,\n",
    "                time_as_date=True,\n",
    "                reduce_memory_usage=True,\n",
    "                raw=False,\n",
    "                ignore_value2text_conversions=False)\n",
    "        #remove \\CCP from column names of dataframe\n",
    "        df.columns = [col.split('\\\\')[0] for col in df.columns]\n",
    "        #anaysis\n",
    "        #create rpm and exhaust temeprature bins\n",
    "        rpmbins = range(1000, 3700, 200)\n",
    "        exhTbins = range(0, 801, 50)\n",
    "        \n",
    "        \n",
    "        #resampling the data to 1 second\n",
    "        df = df.resample('S').mean()\n",
    "        mdf.close()\n",
    "        #assert that INCA data length is greater than modal data length\n",
    "        if len(df) > len(dfModal):\n",
    "            print(\"Length of INCA file > Length of emission file\")\n",
    "            #reduce the size of INCA data to match that of modal data\n",
    "            df = df[len(df) - len(dfModal):]\n",
    "        else:\n",
    "            print(\"Length of emission file > Length of INCA file\")\n",
    "            #reduce the size of modal data to match that of INCA data\n",
    "            dfModal = dfModal[len(dfModal) - len(df):]\n",
    "        df['actualSpeed'] = dfModal['ActualSpeed (km/h)\\n[km/h]'].values\n",
    "        df['NOx'] = dfModal['NOx_grams (Dil)\\n[grams]'].values*1000\n",
    "        df['CO'] = dfModal['CO_grams (Dil)\\n[grams]'].values*1000\n",
    "        df['THC'] = dfModal['THC_grams (Dil)\\n[grams]'].values*1000\n",
    "        shift = determineShift(df.egr_T_exhaust_temperature, df.actualSpeed)\n",
    "        #determine the left shift of modal data\n",
    "        print(\"Shift is %d\" %shift)\n",
    "        df.NOx = df.NOx.shift(-(shift))\n",
    "        df.actualSpeed = df.actualSpeed.shift(-shift)\n",
    "        #fill NaN values with 0 \n",
    "        df.fillna(0, inplace = True)\n",
    "        \n",
    "        n_i = list(range(1,len(df['egr_b_operate_valve'])+1))\n",
    "        df['Sl.no'] = n_i\n",
    "        df.set_index('Sl.no',inplace=True)\n",
    "        \n",
    "      "
   ]
  },
  {
   "cell_type": "markdown",
   "metadata": {
    "slideshow": {
     "slide_type": "slide"
    }
   },
   "source": [
    "# EGR Opening Percentage"
   ]
  },
  {
   "cell_type": "code",
   "execution_count": null,
   "metadata": {
    "slideshow": {
     "slide_type": "subslide"
    }
   },
   "outputs": [],
   "source": [
    "Time_EGR_open = df['egr_b_operate_valve'].sum()\n",
    "print(\"Time EGR open =\",round(Time_EGR_open,1))\n",
    "EGR_open_perc = (Time_EGR_open/(df['egr_b_operate_valve'].count()))*100\n",
    "print(\"EGR opening percentage in IDC - \",round(EGR_open_perc,1),'%')"
   ]
  },
  {
   "cell_type": "markdown",
   "metadata": {
    "slideshow": {
     "slide_type": "slide"
    }
   },
   "source": [
    "# Average NOx Binplot"
   ]
  },
  {
   "cell_type": "code",
   "execution_count": null,
   "metadata": {
    "scrolled": true,
    "slideshow": {
     "slide_type": "-"
    }
   },
   "outputs": [],
   "source": [
    "binplotNOx = heatMap(df.cps_n_engine, df.egr_T_exhaust_temperature, \n",
    "                          df.NOx, rpmbins, exhTbins, \n",
    "                          title = \"Mean NOx at RPM and exhaust temperature\", \n",
    "                          method = \"mean\", scatterXlabel = \"RPM[rpm]\", \n",
    "                          scatterYlabel = \"Exhaust Temperature[C]\", \n",
    "                          cmap = \"YlGnBu\")"
   ]
  },
  {
   "cell_type": "markdown",
   "metadata": {
    "slideshow": {
     "slide_type": "slide"
    }
   },
   "source": [
    "# Total NOx Binplot"
   ]
  },
  {
   "cell_type": "code",
   "execution_count": null,
   "metadata": {
    "scrolled": true
   },
   "outputs": [],
   "source": [
    "binplotNOx = heatMap(df.cps_n_engine, df.egr_T_exhaust_temperature, \n",
    "                          df.NOx, rpmbins, exhTbins, \n",
    "                          title = \"Total NOx at RPM and exhaust temperature\", \n",
    "                          method = \"sum\", scatterXlabel = \"RPM[rpm]\", \n",
    "                          scatterYlabel = \"Exhaust Temperature[C]\", \n",
    "                          cmap = \"YlGnBu\")"
   ]
  },
  {
   "cell_type": "markdown",
   "metadata": {
    "slideshow": {
     "slide_type": "slide"
    }
   },
   "source": [
    "# Percentage time @ each operating point"
   ]
  },
  {
   "cell_type": "code",
   "execution_count": null,
   "metadata": {
    "scrolled": false
   },
   "outputs": [],
   "source": [
    "binplotTime = heatMap(df.cps_n_engine, df.egr_T_exhaust_temperature, \n",
    "                             df.egr_P_exhaustp, rpmbins, exhTbins, \n",
    "                             title = \"%Time spent at RPM and exhaust temperature\", \n",
    "                             method = \"count\", scatterXlabel = \"RPM[rpm]\", \n",
    "                             scatterYlabel = \"Exhaust Temperature[C]\", \n",
    "                             cmap = \"YlGnBu\")"
   ]
  },
  {
   "cell_type": "markdown",
   "metadata": {
    "slideshow": {
     "slide_type": "slide"
    }
   },
   "source": [
    "# NOx Modal"
   ]
  },
  {
   "cell_type": "code",
   "execution_count": null,
   "metadata": {
    "scrolled": false
   },
   "outputs": [],
   "source": [
    "graph(df['NOx'])"
   ]
  },
  {
   "cell_type": "markdown",
   "metadata": {
    "slideshow": {
     "slide_type": "slide"
    }
   },
   "source": [
    "# CO Modal"
   ]
  },
  {
   "cell_type": "code",
   "execution_count": null,
   "metadata": {
    "scrolled": false
   },
   "outputs": [],
   "source": [
    "graph(df['CO'])"
   ]
  },
  {
   "cell_type": "markdown",
   "metadata": {
    "slideshow": {
     "slide_type": "slide"
    }
   },
   "source": [
    "# THC Modal"
   ]
  },
  {
   "cell_type": "code",
   "execution_count": null,
   "metadata": {
    "scrolled": false
   },
   "outputs": [],
   "source": [
    "graph(df['THC'])"
   ]
  }
 ],
 "metadata": {
  "celltoolbar": "Slideshow",
  "hide_input": false,
  "kernelspec": {
   "display_name": "Python 3",
   "language": "python",
   "name": "python3"
  },
  "language_info": {
   "codemirror_mode": {
    "name": "ipython",
    "version": 3
   },
   "file_extension": ".py",
   "mimetype": "text/x-python",
   "name": "python",
   "nbconvert_exporter": "python",
   "pygments_lexer": "ipython3",
   "version": "3.7.6"
  }
 },
 "nbformat": 4,
 "nbformat_minor": 2
}
