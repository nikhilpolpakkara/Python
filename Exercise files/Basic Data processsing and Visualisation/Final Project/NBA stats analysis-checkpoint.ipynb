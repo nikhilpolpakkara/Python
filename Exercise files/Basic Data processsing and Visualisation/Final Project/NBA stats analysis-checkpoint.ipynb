{
 "cells": [
  {
   "cell_type": "markdown",
   "metadata": {},
   "source": [
    "#NBA Stats analysis\n",
    "We are going to delve into some interesting NBA statistics in this notebook. There are numerous NBA stats we can explore. For this project i am going to work with the NBA dataset in the Kaggle website. The link is given below. \n",
    "\n",
    "[NBA stats dataset](https://www.kaggle.com/nathanlauga/nba-games)\n"
   ]
  }
 ],
 "metadata": {
  "kernelspec": {
   "display_name": "Python 3",
   "language": "python",
   "name": "python3"
  },
  "language_info": {
   "codemirror_mode": {
    "name": "ipython",
    "version": 3
   },
   "file_extension": ".py",
   "mimetype": "text/x-python",
   "name": "python",
   "nbconvert_exporter": "python",
   "pygments_lexer": "ipython3",
   "version": "3.7.4"
  }
 },
 "nbformat": 4,
 "nbformat_minor": 2
}
