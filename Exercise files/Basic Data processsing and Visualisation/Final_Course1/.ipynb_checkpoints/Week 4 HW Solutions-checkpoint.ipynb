{
 "cells": [
  {
   "cell_type": "markdown",
   "metadata": {},
   "source": [
    "# Week 4 Assignment\n",
    "\n",
    "This week, we learned how to do basic operations with the numpy library, visualize data with Matplotlib, and gather data from the web using urllib and BeautifulSoup. Now let's practice these concepts to get a little more familiar with them."
   ]
  },
  {
   "cell_type": "markdown",
   "metadata": {},
   "source": [
    "## Part 1 : numpy\n",
    "\n",
    "Let's use numpy to perform a few simple matrix operations using a matrix we will create from an example data set. For this assignment, we'll be using a collection of data about Near-Earth asteroids and comets, via the NASA website. For brevity, we'll usually just call these NEOs (near-Earth objects).\n",
    "\n",
    "First, load the data from the provided JSON. Review week 2 and 3 homework assignments and lessons if you need help loading a JSON file."
   ]
  },
  {
   "cell_type": "code",
   "execution_count": 2,
   "metadata": {},
   "outputs": [],
   "source": [
    "# Here, we import the necessary libraries\n",
    "import numpy\n",
    "import json\n",
    "\n",
    "# Remember to change the file location if needed\n",
    "path = \"./datasets/near-earth-objects.json\"\n",
    "f = open(path)"
   ]
  },
  {
   "cell_type": "markdown",
   "metadata": {},
   "source": [
    "For this assignment, we'll load the JSON objects a little different than before. This time, we'll use the `for ___ in ___` syntax to add each line to the dataset. By doing it this way, if the length of the file changes but we still want to load the whole thing, we don't have to adjust how long the loop runs - it will just load data until there's no data to load"
   ]
  },
  {
   "cell_type": "code",
   "execution_count": 3,
   "metadata": {
    "scrolled": true
   },
   "outputs": [
    {
     "data": {
      "text/plain": [
       "'4.26'"
      ]
     },
     "execution_count": 3,
     "metadata": {},
     "output_type": "execute_result"
    }
   ],
   "source": [
    "dataset = []\n",
    "\n",
    "for asteroid in f:\n",
    "    dataset.append(json.loads(asteroid))\n",
    "\n",
    "# Let's print the first data item to see what our data looks like\n",
    "dataset[0]['q_au_2']"
   ]
  },
  {
   "cell_type": "markdown",
   "metadata": {},
   "source": [
    "The names of the data fields have been shortened to save space. Knowing what the properties are isn't necessary to complete this assignment, but when working with real data it can be important to know what each one is for many reasons. For example, in this dataset if you saw an `i_deg` with value `7000`, but didn't know what that field represented, you may not notice that it's not likely that an NEO's orbit would have a 7000 degree offset from Earth's orbit, since these angles only go up to 180, and so there may be a mistake in the data. \n",
    "\n",
    "So if you're curious, the data fields are: \n",
    "\n",
    "`h_mag` is the absolute magnitude, or how bright the asteroid would be if it were 1 Astronomical Unit (AU) away from both the Earth and the sun (1 AU = how far the Earth is from the Sun). \n",
    "\n",
    "`i_deg` is the angle of offset that the object's orbit makes compared to the Earth's.\n",
    "\n",
    "`moid_au` (Minimum Orbit Intersection Distance) is the closest distance the orbit of the object reaches to the orbit of the Earth (measured in AU).\n",
    "\n",
    "`orbit_class` is the classification of orbit the NEO has. The main 3 you will see in this data are \"Atens\", \"Apollo\", and \"Amor\", named after prominent asteroids that have similar orbits.\n",
    "\n",
    "`period_yr` is how long (in Earth years) the NEO takes to go around the Sun and make a full orbit.\n",
    "\n",
    "`pha` is short for \"Potentially Hazardous Asteroid\", and so a `Y` or `N` indicates whether astronomers believe that this NEO has the potential for a harmful impact. (Don't worry, a `Y` doesn't mean it *will* collide - we just have to keep an eye on this asteroid)\n",
    "\n",
    "`q_au_1` is the shortest distance the NEO's orbit makes with the Sun.\n",
    "\n",
    "`q_au_2` is the longest distance the NEO's orbit makes with the Sun."
   ]
  },
  {
   "cell_type": "markdown",
   "metadata": {},
   "source": [
    "## Numpy arrays\n",
    "\n",
    "Now we'll create some numpy arrays for some of the data points for each near-Earth object to do some numpy operations on. Why don't we grab the `h_mag`, `moid_au`, and `period_yr` properties for every asteroid and put them each in their own numpy array. "
   ]
  },
  {
   "cell_type": "code",
   "execution_count": 4,
   "metadata": {
    "scrolled": true
   },
   "outputs": [
    {
     "data": {
      "text/plain": [
       "array([19.7, 20.5, 19. , 18. , 20.7, 19.5, 19.6, 18. , 19.9, 19.4, 20.3,\n",
       "       21.9, 17.4, 19.2, 20.5, 19.3, 20.5, 18. , 17.3, 21.1, 21.2, 22.1,\n",
       "       22.3, 21.8, 21.2, 19.9, 19.5, 21.1, 17.5, 19.7, 20.6, 23.3, 21.1,\n",
       "       18.8, 21.5, 21.2, 20.1, 20.1, 18.6, 23.5, 18.2, 20. , 18.2, 20.4,\n",
       "       21. , 19.1, 22.6, 18.8, 20.2, 20.8, 15.6, 20. , 20.6, 16.2, 23. ,\n",
       "       21.1, 18.9, 21.8, 21.2, 19.3, 18.1, 21.1, 23.2, 20.1, 19.8, 20.1,\n",
       "       21.6, 20.4, 22.6, 20. , 21.3, 19.1, 21.4, 19.7, 20. , 19.7, 20.1,\n",
       "       20.8, 22.5, 17.2, 18.7, 22.1, 21.3, 22.1, 20.9, 20.7, 21.4, 20.2,\n",
       "       20.4, 19.6, 20.7, 20.7, 19.6, 21.3, 21.4, 17.2, 20.3, 21.2, 19.4,\n",
       "       20.4, 19.2, 19.8, 21. , 20.7, 18.7, 19.5, 19.5, 22.6, 20. , 19.7,\n",
       "       18.7, 17.2, 18.3, 22.9, 22.5, 22.7, 20.2, 21.6, 20.9, 19.3, 21.5,\n",
       "       22. , 17. , 20.7, 19.2, 20.5, 20.1, 19.4, 19.6, 19.6, 19.1, 19.2,\n",
       "       20.8, 19.2, 20.9, 20.4, 20.9, 23.6, 22.5, 21.4, 18.3, 18.5, 19.6,\n",
       "       20.2, 22.3, 18.8, 20. , 19.4, 19.1, 20. , 19.7, 20.8, 21.6, 23.3,\n",
       "       21.8, 21.4, 22.3, 20.3, 19.7, 20.6, 19.4, 24.3, 24.1, 21.6, 21.8,\n",
       "       21.4, 19.9, 19.3, 20.3, 20.4, 20.2, 22.4, 19.5, 22.5, 21.3, 19. ,\n",
       "       20.8, 21.5, 17.7, 19.9, 18.3])"
      ]
     },
     "execution_count": 4,
     "metadata": {},
     "output_type": "execute_result"
    }
   ],
   "source": [
    "# First, create a regular list of each of the 3 properties we want to collect:\n",
    "magnitude = [asteroid['h_mag'] for asteroid in dataset]\n",
    "MOID = [asteroid['moid_au'] for asteroid in dataset]\n",
    "orbital_period = [asteroid['period_yr'] for asteroid in dataset]\n",
    "\n",
    "# Now, convert them to numpy arrays:\n",
    "magnitude = numpy.array(magnitude).astype(numpy.float)\n",
    "MOID = numpy.array(MOID).astype(numpy.float)\n",
    "orbital_period = numpy.array(orbital_period).astype(numpy.float)\n",
    "\n",
    "# Let's print out one of the arrays to check out the data:\n",
    "magnitude"
   ]
  },
  {
   "cell_type": "markdown",
   "metadata": {},
   "source": [
    "### Statistical Operations\n",
    "\n",
    "Before we create and use matrices, let's process some of this data to gain some insight into our NEOs. Let's suppose we're interested in seeing the median magnitude, the standard deviation of all MOIDs, and the average orbital period. Luckily, numpy arrays support these operations natively. "
   ]
  },
  {
   "cell_type": "code",
   "execution_count": 5,
   "metadata": {},
   "outputs": [
    {
     "name": "stdout",
     "output_type": "stream",
     "text": [
      "Median Magnitude:  20.3\n"
     ]
    }
   ],
   "source": [
    "# Review your lecture material to see how to do this - but you may also have to do some good old-fashioned Googling!\n",
    "print(\"Median Magnitude: \", numpy.median(magnitude))"
   ]
  },
  {
   "cell_type": "code",
   "execution_count": 5,
   "metadata": {},
   "outputs": [
    {
     "name": "stdout",
     "output_type": "stream",
     "text": [
      "Standard Deviation for MOIDS: \n"
     ]
    },
    {
     "data": {
      "text/plain": [
       "0.1646297085457812"
      ]
     },
     "execution_count": 5,
     "metadata": {},
     "output_type": "execute_result"
    }
   ],
   "source": [
    "print(\"Standard Deviation for MOIDS: \")\n",
    "numpy.std(MOID)"
   ]
  },
  {
   "cell_type": "code",
   "execution_count": 6,
   "metadata": {},
   "outputs": [
    {
     "name": "stdout",
     "output_type": "stream",
     "text": [
      "Average Time to Orbit Sun: \n"
     ]
    },
    {
     "data": {
      "text/plain": [
       "3.5443646408839777"
      ]
     },
     "execution_count": 6,
     "metadata": {},
     "output_type": "execute_result"
    }
   ],
   "source": [
    "print(\"Average Time to Orbit Sun: \")\n",
    "numpy.mean(orbital_period)"
   ]
  },
  {
   "cell_type": "markdown",
   "metadata": {},
   "source": [
    "## Numpy Matrices\n",
    "\n",
    "Arrays are very useful in general, but we often want to work with our data in matrix form. Let's convert our 3 arrays to a matrix and perform some common linear algebra operations on them."
   ]
  },
  {
   "cell_type": "code",
   "execution_count": 7,
   "metadata": {},
   "outputs": [
    {
     "data": {
      "text/plain": [
       "array([[1.970e+01, 2.050e+01, 1.900e+01, 1.800e+01, 2.070e+01, 1.950e+01,\n",
       "        1.960e+01, 1.800e+01, 1.990e+01, 1.940e+01, 2.030e+01, 2.190e+01,\n",
       "        1.740e+01, 1.920e+01, 2.050e+01, 1.930e+01, 2.050e+01, 1.800e+01,\n",
       "        1.730e+01, 2.110e+01, 2.120e+01, 2.210e+01, 2.230e+01, 2.180e+01,\n",
       "        2.120e+01, 1.990e+01, 1.950e+01, 2.110e+01, 1.750e+01, 1.970e+01,\n",
       "        2.060e+01, 2.330e+01, 2.110e+01, 1.880e+01, 2.150e+01, 2.120e+01,\n",
       "        2.010e+01, 2.010e+01, 1.860e+01, 2.350e+01, 1.820e+01, 2.000e+01,\n",
       "        1.820e+01, 2.040e+01, 2.100e+01, 1.910e+01, 2.260e+01, 1.880e+01,\n",
       "        2.020e+01, 2.080e+01, 1.560e+01, 2.000e+01, 2.060e+01, 1.620e+01,\n",
       "        2.300e+01, 2.110e+01, 1.890e+01, 2.180e+01, 2.120e+01, 1.930e+01,\n",
       "        1.810e+01, 2.110e+01, 2.320e+01, 2.010e+01, 1.980e+01, 2.010e+01,\n",
       "        2.160e+01, 2.040e+01, 2.260e+01, 2.000e+01, 2.130e+01, 1.910e+01,\n",
       "        2.140e+01, 1.970e+01, 2.000e+01, 1.970e+01, 2.010e+01, 2.080e+01,\n",
       "        2.250e+01, 1.720e+01, 1.870e+01, 2.210e+01, 2.130e+01, 2.210e+01,\n",
       "        2.090e+01, 2.070e+01, 2.140e+01, 2.020e+01, 2.040e+01, 1.960e+01,\n",
       "        2.070e+01, 2.070e+01, 1.960e+01, 2.130e+01, 2.140e+01, 1.720e+01,\n",
       "        2.030e+01, 2.120e+01, 1.940e+01, 2.040e+01, 1.920e+01, 1.980e+01,\n",
       "        2.100e+01, 2.070e+01, 1.870e+01, 1.950e+01, 1.950e+01, 2.260e+01,\n",
       "        2.000e+01, 1.970e+01, 1.870e+01, 1.720e+01, 1.830e+01, 2.290e+01,\n",
       "        2.250e+01, 2.270e+01, 2.020e+01, 2.160e+01, 2.090e+01, 1.930e+01,\n",
       "        2.150e+01, 2.200e+01, 1.700e+01, 2.070e+01, 1.920e+01, 2.050e+01,\n",
       "        2.010e+01, 1.940e+01, 1.960e+01, 1.960e+01, 1.910e+01, 1.920e+01,\n",
       "        2.080e+01, 1.920e+01, 2.090e+01, 2.040e+01, 2.090e+01, 2.360e+01,\n",
       "        2.250e+01, 2.140e+01, 1.830e+01, 1.850e+01, 1.960e+01, 2.020e+01,\n",
       "        2.230e+01, 1.880e+01, 2.000e+01, 1.940e+01, 1.910e+01, 2.000e+01,\n",
       "        1.970e+01, 2.080e+01, 2.160e+01, 2.330e+01, 2.180e+01, 2.140e+01,\n",
       "        2.230e+01, 2.030e+01, 1.970e+01, 2.060e+01, 1.940e+01, 2.430e+01,\n",
       "        2.410e+01, 2.160e+01, 2.180e+01, 2.140e+01, 1.990e+01, 1.930e+01,\n",
       "        2.030e+01, 2.040e+01, 2.020e+01, 2.240e+01, 1.950e+01, 2.250e+01,\n",
       "        2.130e+01, 1.900e+01, 2.080e+01, 2.150e+01, 1.770e+01, 1.990e+01,\n",
       "        1.830e+01],\n",
       "       [3.500e-02, 2.800e-02, 3.330e-01, 2.680e-01, 1.110e-01, 2.400e-02,\n",
       "        7.000e-03, 2.900e-02, 1.040e-01, 2.750e-01, 1.550e-01, 3.400e-02,\n",
       "        6.100e-02, 2.250e-01, 2.370e-01, 2.380e-01, 2.030e-01, 1.240e-01,\n",
       "        2.690e-01, 1.300e-02, 1.500e-01, 7.400e-02, 1.390e-01, 4.900e-02,\n",
       "        1.900e-02, 2.380e-01, 3.030e-01, 1.270e-01, 4.750e-01, 1.830e-01,\n",
       "        3.120e-01, 2.600e-02, 9.900e-02, 1.360e-01, 1.600e-01, 1.540e-01,\n",
       "        1.310e-01, 6.200e-02, 3.600e-02, 4.500e-02, 1.800e-01, 1.617e+00,\n",
       "        1.700e-01, 1.040e-01, 2.310e-01, 4.200e-02, 5.100e-02, 3.900e-01,\n",
       "        1.960e-01, 2.150e-01, 1.920e-01, 9.900e-02, 5.100e-02, 4.180e-01,\n",
       "        1.200e-02, 2.120e-01, 7.000e-03, 2.600e-02, 1.560e-01, 3.650e-01,\n",
       "        1.490e-01, 4.200e-02, 1.330e-01, 2.270e-01, 1.400e-01, 2.050e-01,\n",
       "        4.000e-03, 3.260e-01, 1.700e-02, 1.950e-01, 1.630e-01, 2.940e-01,\n",
       "        1.500e-02, 6.300e-02, 2.560e-01, 1.940e-01, 6.200e-02, 8.700e-02,\n",
       "        6.500e-02, 5.600e-02, 2.430e-01, 1.480e-01, 2.100e-02, 1.400e-02,\n",
       "        9.600e-02, 1.490e-01, 6.800e-02, 4.400e-02, 2.980e-01, 6.200e-02,\n",
       "        1.900e-01, 9.200e-02, 1.290e-01, 1.780e-01, 1.700e-02, 1.270e-01,\n",
       "        1.020e-01, 3.360e-01, 2.080e-01, 8.100e-02, 8.100e-02, 2.210e-01,\n",
       "        1.560e-01, 2.000e-04, 5.900e-02, 1.500e-01, 1.460e-01, 6.000e-03,\n",
       "        1.260e-01, 1.380e-01, 2.330e-01, 3.180e-01, 2.160e-01, 1.390e-01,\n",
       "        2.500e-02, 3.100e-02, 4.300e-02, 1.920e-01, 5.400e-02, 2.280e-01,\n",
       "        3.120e-01, 5.400e-02, 7.030e-01, 2.820e-01, 1.660e-01, 5.100e-02,\n",
       "        3.030e-01, 3.670e-01, 1.110e-01, 2.210e-01, 2.090e-01, 5.300e-02,\n",
       "        3.500e-02, 2.830e-01, 1.860e-01, 2.570e-01, 1.080e-01, 1.400e-02,\n",
       "        2.900e-02, 1.170e-01, 3.720e-01, 3.160e-01, 2.990e-01, 5.980e-01,\n",
       "        1.800e-02, 1.500e-01, 1.300e-02, 4.400e-01, 3.990e-01, 2.200e-01,\n",
       "        9.700e-02, 1.280e-01, 3.400e-02, 1.900e-02, 2.700e-02, 9.600e-02,\n",
       "        3.500e-02, 2.970e-01, 1.400e-01, 5.350e-01, 1.590e-01, 2.300e-02,\n",
       "        2.900e-02, 5.000e-02, 1.460e-01, 9.000e-03, 6.000e-03, 2.800e-02,\n",
       "        3.330e-01, 3.330e-01, 2.600e-01, 6.000e-02, 9.700e-02, 7.900e-02,\n",
       "        1.510e-01, 3.330e-01, 1.300e-01, 2.300e-02, 1.470e-01, 2.440e-01,\n",
       "        2.060e-01],\n",
       "       [4.060e+00, 1.000e+00, 1.310e+00, 4.240e+00, 2.060e+00, 8.000e-01,\n",
       "        1.960e+00, 2.200e+00, 1.560e+00, 1.610e+00, 9.500e-01, 9.800e-01,\n",
       "        2.850e+00, 2.990e+00, 5.390e+00, 4.850e+00, 4.070e+00, 9.300e-01,\n",
       "        4.270e+00, 3.380e+00, 2.870e+00, 2.100e+00, 3.660e+00, 4.330e+00,\n",
       "        1.200e+00, 3.390e+00, 3.920e+00, 3.870e+00, 4.730e+00, 4.940e+00,\n",
       "        4.320e+00, 1.780e+00, 4.110e+00, 3.780e+00, 4.440e+00, 4.240e+00,\n",
       "        2.050e+00, 3.210e+00, 1.480e+00, 3.220e+00, 5.160e+00, 9.982e+01,\n",
       "        4.810e+00, 1.870e+00, 2.240e+00, 4.140e+00, 4.790e+00, 3.060e+00,\n",
       "        3.230e+00, 1.480e+00, 4.930e+00, 2.880e+00, 1.390e+00, 6.130e+00,\n",
       "        4.940e+00, 4.160e+00, 7.800e-01, 1.230e+00, 3.820e+00, 1.920e+00,\n",
       "        2.830e+00, 4.320e+00, 3.080e+00, 5.270e+00, 3.660e+00, 3.750e+00,\n",
       "        3.730e+00, 5.360e+00, 2.600e+00, 4.140e+00, 1.680e+00, 3.240e+00,\n",
       "        1.880e+00, 2.960e+00, 1.940e+00, 5.150e+00, 4.340e+00, 1.000e+00,\n",
       "        4.970e+00, 6.190e+00, 4.340e+00, 1.810e+00, 8.400e-01, 2.810e+00,\n",
       "        1.610e+00, 2.740e+00, 2.620e+00, 2.080e+00, 4.220e+00, 9.300e-01,\n",
       "        2.060e+00, 1.350e+00, 3.400e+00, 4.280e+00, 1.000e+00, 4.200e+00,\n",
       "        3.010e+00, 3.740e+00, 1.760e+00, 7.800e-01, 3.460e+00, 2.360e+00,\n",
       "        1.100e+00, 2.330e+00, 3.700e+00, 2.280e+00, 2.610e+00, 4.640e+00,\n",
       "        3.350e+00, 1.570e+00, 4.140e+00, 3.730e+00, 5.290e+00, 2.990e+00,\n",
       "        1.270e+00, 2.320e+00, 4.360e+00, 1.590e+00, 1.120e+00, 3.420e+00,\n",
       "        1.170e+00, 3.260e+00, 3.950e+00, 3.330e+00, 3.420e+00, 1.440e+00,\n",
       "        2.300e+00, 4.590e+00, 2.210e+00, 1.910e+00, 4.590e+00, 3.800e+00,\n",
       "        8.600e-01, 1.710e+00, 2.230e+00, 1.940e+00, 1.390e+00, 7.200e-01,\n",
       "        3.370e+00, 1.330e+00, 4.240e+00, 9.400e-01, 2.270e+00, 3.790e+00,\n",
       "        1.180e+00, 4.450e+00, 5.070e+00, 1.430e+00, 1.700e+00, 2.970e+00,\n",
       "        4.320e+00, 6.820e+00, 1.360e+00, 2.140e+00, 4.380e+00, 4.140e+00,\n",
       "        1.310e+00, 4.560e+00, 4.420e+00, 3.190e+00, 2.630e+00, 1.220e+00,\n",
       "        9.300e-01, 9.300e-01, 5.900e+00, 3.020e+00, 1.490e+00, 1.400e+00,\n",
       "        3.350e+00, 4.540e+00, 4.850e+00, 1.870e+00, 2.620e+00, 1.920e+00,\n",
       "        1.213e+01, 4.210e+00, 1.730e+00, 1.020e+00, 2.060e+00, 4.950e+00,\n",
       "        3.380e+00]])"
      ]
     },
     "execution_count": 7,
     "metadata": {},
     "output_type": "execute_result"
    }
   ],
   "source": [
    "# First, create an array of arrays named \"NEO_data\"\n",
    "\n",
    "NEO_data = numpy.stack([magnitude, MOID, orbital_period])\n",
    "NEO_data"
   ]
  },
  {
   "cell_type": "markdown",
   "metadata": {},
   "source": [
    "Now convert it to the numpy `matrix` type:"
   ]
  },
  {
   "cell_type": "code",
   "execution_count": 8,
   "metadata": {},
   "outputs": [
    {
     "data": {
      "text/plain": [
       "matrix([[1.970e+01, 2.050e+01, 1.900e+01, 1.800e+01, 2.070e+01,\n",
       "         1.950e+01, 1.960e+01, 1.800e+01, 1.990e+01, 1.940e+01,\n",
       "         2.030e+01, 2.190e+01, 1.740e+01, 1.920e+01, 2.050e+01,\n",
       "         1.930e+01, 2.050e+01, 1.800e+01, 1.730e+01, 2.110e+01,\n",
       "         2.120e+01, 2.210e+01, 2.230e+01, 2.180e+01, 2.120e+01,\n",
       "         1.990e+01, 1.950e+01, 2.110e+01, 1.750e+01, 1.970e+01,\n",
       "         2.060e+01, 2.330e+01, 2.110e+01, 1.880e+01, 2.150e+01,\n",
       "         2.120e+01, 2.010e+01, 2.010e+01, 1.860e+01, 2.350e+01,\n",
       "         1.820e+01, 2.000e+01, 1.820e+01, 2.040e+01, 2.100e+01,\n",
       "         1.910e+01, 2.260e+01, 1.880e+01, 2.020e+01, 2.080e+01,\n",
       "         1.560e+01, 2.000e+01, 2.060e+01, 1.620e+01, 2.300e+01,\n",
       "         2.110e+01, 1.890e+01, 2.180e+01, 2.120e+01, 1.930e+01,\n",
       "         1.810e+01, 2.110e+01, 2.320e+01, 2.010e+01, 1.980e+01,\n",
       "         2.010e+01, 2.160e+01, 2.040e+01, 2.260e+01, 2.000e+01,\n",
       "         2.130e+01, 1.910e+01, 2.140e+01, 1.970e+01, 2.000e+01,\n",
       "         1.970e+01, 2.010e+01, 2.080e+01, 2.250e+01, 1.720e+01,\n",
       "         1.870e+01, 2.210e+01, 2.130e+01, 2.210e+01, 2.090e+01,\n",
       "         2.070e+01, 2.140e+01, 2.020e+01, 2.040e+01, 1.960e+01,\n",
       "         2.070e+01, 2.070e+01, 1.960e+01, 2.130e+01, 2.140e+01,\n",
       "         1.720e+01, 2.030e+01, 2.120e+01, 1.940e+01, 2.040e+01,\n",
       "         1.920e+01, 1.980e+01, 2.100e+01, 2.070e+01, 1.870e+01,\n",
       "         1.950e+01, 1.950e+01, 2.260e+01, 2.000e+01, 1.970e+01,\n",
       "         1.870e+01, 1.720e+01, 1.830e+01, 2.290e+01, 2.250e+01,\n",
       "         2.270e+01, 2.020e+01, 2.160e+01, 2.090e+01, 1.930e+01,\n",
       "         2.150e+01, 2.200e+01, 1.700e+01, 2.070e+01, 1.920e+01,\n",
       "         2.050e+01, 2.010e+01, 1.940e+01, 1.960e+01, 1.960e+01,\n",
       "         1.910e+01, 1.920e+01, 2.080e+01, 1.920e+01, 2.090e+01,\n",
       "         2.040e+01, 2.090e+01, 2.360e+01, 2.250e+01, 2.140e+01,\n",
       "         1.830e+01, 1.850e+01, 1.960e+01, 2.020e+01, 2.230e+01,\n",
       "         1.880e+01, 2.000e+01, 1.940e+01, 1.910e+01, 2.000e+01,\n",
       "         1.970e+01, 2.080e+01, 2.160e+01, 2.330e+01, 2.180e+01,\n",
       "         2.140e+01, 2.230e+01, 2.030e+01, 1.970e+01, 2.060e+01,\n",
       "         1.940e+01, 2.430e+01, 2.410e+01, 2.160e+01, 2.180e+01,\n",
       "         2.140e+01, 1.990e+01, 1.930e+01, 2.030e+01, 2.040e+01,\n",
       "         2.020e+01, 2.240e+01, 1.950e+01, 2.250e+01, 2.130e+01,\n",
       "         1.900e+01, 2.080e+01, 2.150e+01, 1.770e+01, 1.990e+01,\n",
       "         1.830e+01],\n",
       "        [3.500e-02, 2.800e-02, 3.330e-01, 2.680e-01, 1.110e-01,\n",
       "         2.400e-02, 7.000e-03, 2.900e-02, 1.040e-01, 2.750e-01,\n",
       "         1.550e-01, 3.400e-02, 6.100e-02, 2.250e-01, 2.370e-01,\n",
       "         2.380e-01, 2.030e-01, 1.240e-01, 2.690e-01, 1.300e-02,\n",
       "         1.500e-01, 7.400e-02, 1.390e-01, 4.900e-02, 1.900e-02,\n",
       "         2.380e-01, 3.030e-01, 1.270e-01, 4.750e-01, 1.830e-01,\n",
       "         3.120e-01, 2.600e-02, 9.900e-02, 1.360e-01, 1.600e-01,\n",
       "         1.540e-01, 1.310e-01, 6.200e-02, 3.600e-02, 4.500e-02,\n",
       "         1.800e-01, 1.617e+00, 1.700e-01, 1.040e-01, 2.310e-01,\n",
       "         4.200e-02, 5.100e-02, 3.900e-01, 1.960e-01, 2.150e-01,\n",
       "         1.920e-01, 9.900e-02, 5.100e-02, 4.180e-01, 1.200e-02,\n",
       "         2.120e-01, 7.000e-03, 2.600e-02, 1.560e-01, 3.650e-01,\n",
       "         1.490e-01, 4.200e-02, 1.330e-01, 2.270e-01, 1.400e-01,\n",
       "         2.050e-01, 4.000e-03, 3.260e-01, 1.700e-02, 1.950e-01,\n",
       "         1.630e-01, 2.940e-01, 1.500e-02, 6.300e-02, 2.560e-01,\n",
       "         1.940e-01, 6.200e-02, 8.700e-02, 6.500e-02, 5.600e-02,\n",
       "         2.430e-01, 1.480e-01, 2.100e-02, 1.400e-02, 9.600e-02,\n",
       "         1.490e-01, 6.800e-02, 4.400e-02, 2.980e-01, 6.200e-02,\n",
       "         1.900e-01, 9.200e-02, 1.290e-01, 1.780e-01, 1.700e-02,\n",
       "         1.270e-01, 1.020e-01, 3.360e-01, 2.080e-01, 8.100e-02,\n",
       "         8.100e-02, 2.210e-01, 1.560e-01, 2.000e-04, 5.900e-02,\n",
       "         1.500e-01, 1.460e-01, 6.000e-03, 1.260e-01, 1.380e-01,\n",
       "         2.330e-01, 3.180e-01, 2.160e-01, 1.390e-01, 2.500e-02,\n",
       "         3.100e-02, 4.300e-02, 1.920e-01, 5.400e-02, 2.280e-01,\n",
       "         3.120e-01, 5.400e-02, 7.030e-01, 2.820e-01, 1.660e-01,\n",
       "         5.100e-02, 3.030e-01, 3.670e-01, 1.110e-01, 2.210e-01,\n",
       "         2.090e-01, 5.300e-02, 3.500e-02, 2.830e-01, 1.860e-01,\n",
       "         2.570e-01, 1.080e-01, 1.400e-02, 2.900e-02, 1.170e-01,\n",
       "         3.720e-01, 3.160e-01, 2.990e-01, 5.980e-01, 1.800e-02,\n",
       "         1.500e-01, 1.300e-02, 4.400e-01, 3.990e-01, 2.200e-01,\n",
       "         9.700e-02, 1.280e-01, 3.400e-02, 1.900e-02, 2.700e-02,\n",
       "         9.600e-02, 3.500e-02, 2.970e-01, 1.400e-01, 5.350e-01,\n",
       "         1.590e-01, 2.300e-02, 2.900e-02, 5.000e-02, 1.460e-01,\n",
       "         9.000e-03, 6.000e-03, 2.800e-02, 3.330e-01, 3.330e-01,\n",
       "         2.600e-01, 6.000e-02, 9.700e-02, 7.900e-02, 1.510e-01,\n",
       "         3.330e-01, 1.300e-01, 2.300e-02, 1.470e-01, 2.440e-01,\n",
       "         2.060e-01],\n",
       "        [4.060e+00, 1.000e+00, 1.310e+00, 4.240e+00, 2.060e+00,\n",
       "         8.000e-01, 1.960e+00, 2.200e+00, 1.560e+00, 1.610e+00,\n",
       "         9.500e-01, 9.800e-01, 2.850e+00, 2.990e+00, 5.390e+00,\n",
       "         4.850e+00, 4.070e+00, 9.300e-01, 4.270e+00, 3.380e+00,\n",
       "         2.870e+00, 2.100e+00, 3.660e+00, 4.330e+00, 1.200e+00,\n",
       "         3.390e+00, 3.920e+00, 3.870e+00, 4.730e+00, 4.940e+00,\n",
       "         4.320e+00, 1.780e+00, 4.110e+00, 3.780e+00, 4.440e+00,\n",
       "         4.240e+00, 2.050e+00, 3.210e+00, 1.480e+00, 3.220e+00,\n",
       "         5.160e+00, 9.982e+01, 4.810e+00, 1.870e+00, 2.240e+00,\n",
       "         4.140e+00, 4.790e+00, 3.060e+00, 3.230e+00, 1.480e+00,\n",
       "         4.930e+00, 2.880e+00, 1.390e+00, 6.130e+00, 4.940e+00,\n",
       "         4.160e+00, 7.800e-01, 1.230e+00, 3.820e+00, 1.920e+00,\n",
       "         2.830e+00, 4.320e+00, 3.080e+00, 5.270e+00, 3.660e+00,\n",
       "         3.750e+00, 3.730e+00, 5.360e+00, 2.600e+00, 4.140e+00,\n",
       "         1.680e+00, 3.240e+00, 1.880e+00, 2.960e+00, 1.940e+00,\n",
       "         5.150e+00, 4.340e+00, 1.000e+00, 4.970e+00, 6.190e+00,\n",
       "         4.340e+00, 1.810e+00, 8.400e-01, 2.810e+00, 1.610e+00,\n",
       "         2.740e+00, 2.620e+00, 2.080e+00, 4.220e+00, 9.300e-01,\n",
       "         2.060e+00, 1.350e+00, 3.400e+00, 4.280e+00, 1.000e+00,\n",
       "         4.200e+00, 3.010e+00, 3.740e+00, 1.760e+00, 7.800e-01,\n",
       "         3.460e+00, 2.360e+00, 1.100e+00, 2.330e+00, 3.700e+00,\n",
       "         2.280e+00, 2.610e+00, 4.640e+00, 3.350e+00, 1.570e+00,\n",
       "         4.140e+00, 3.730e+00, 5.290e+00, 2.990e+00, 1.270e+00,\n",
       "         2.320e+00, 4.360e+00, 1.590e+00, 1.120e+00, 3.420e+00,\n",
       "         1.170e+00, 3.260e+00, 3.950e+00, 3.330e+00, 3.420e+00,\n",
       "         1.440e+00, 2.300e+00, 4.590e+00, 2.210e+00, 1.910e+00,\n",
       "         4.590e+00, 3.800e+00, 8.600e-01, 1.710e+00, 2.230e+00,\n",
       "         1.940e+00, 1.390e+00, 7.200e-01, 3.370e+00, 1.330e+00,\n",
       "         4.240e+00, 9.400e-01, 2.270e+00, 3.790e+00, 1.180e+00,\n",
       "         4.450e+00, 5.070e+00, 1.430e+00, 1.700e+00, 2.970e+00,\n",
       "         4.320e+00, 6.820e+00, 1.360e+00, 2.140e+00, 4.380e+00,\n",
       "         4.140e+00, 1.310e+00, 4.560e+00, 4.420e+00, 3.190e+00,\n",
       "         2.630e+00, 1.220e+00, 9.300e-01, 9.300e-01, 5.900e+00,\n",
       "         3.020e+00, 1.490e+00, 1.400e+00, 3.350e+00, 4.540e+00,\n",
       "         4.850e+00, 1.870e+00, 2.620e+00, 1.920e+00, 1.213e+01,\n",
       "         4.210e+00, 1.730e+00, 1.020e+00, 2.060e+00, 4.950e+00,\n",
       "         3.380e+00]])"
      ]
     },
     "execution_count": 8,
     "metadata": {},
     "output_type": "execute_result"
    }
   ],
   "source": [
    "NEO_data = numpy.matrix(NEO_data)\n",
    "NEO_data"
   ]
  },
  {
   "cell_type": "markdown",
   "metadata": {},
   "source": [
    "Now that we have a numpy matrix, try doing some matrix multiplication. The matrix times its transpose comes up frequently when working with matrices, so let's do that for practice. "
   ]
  },
  {
   "cell_type": "code",
   "execution_count": 9,
   "metadata": {},
   "outputs": [
    {
     "data": {
      "text/plain": [
       "matrix([[7.50823800e+04, 5.77783540e+02, 1.29065450e+04],\n",
       "        [5.77783540e+02, 9.62383904e+00, 2.53383306e+02],\n",
       "        [1.29065450e+04, 2.53383306e+02, 1.20355539e+04]])"
      ]
     },
     "execution_count": 9,
     "metadata": {},
     "output_type": "execute_result"
    }
   ],
   "source": [
    "transpose_product = NEO_data*NEO_data.T\n",
    "transpose_product"
   ]
  },
  {
   "cell_type": "markdown",
   "metadata": {},
   "source": [
    "Try getting the trace of the square matrix you just created. If you're unfamiliar with the trace of a matrix, it is the sum of the diagonal entries. While you *could* do this with a loop, numpy has a way to do this more easily."
   ]
  },
  {
   "cell_type": "code",
   "execution_count": 10,
   "metadata": {},
   "outputs": [
    {
     "data": {
      "text/plain": [
       "87127.55773904"
      ]
     },
     "execution_count": 10,
     "metadata": {},
     "output_type": "execute_result"
    }
   ],
   "source": [
    "NEO_trace = numpy.trace(transpose_product)\n",
    "NEO_trace"
   ]
  },
  {
   "cell_type": "markdown",
   "metadata": {},
   "source": [
    "Now that we're familiar with numpy and its basic operations, let's move on to visualizing the data. "
   ]
  },
  {
   "cell_type": "markdown",
   "metadata": {},
   "source": [
    "## Part 2 : Matplotlib\n",
    "\n",
    "When working with a large amount of data, it can also be very helpful to visualize it. With numpy, we were able to maniupulate the data and do various operations on it. However, even though large matrices and arrays are easy for a computer to understand, for us humans it can be hard to take in and process such a large amount of data. So let's try using Matplotlib to create some visuals to help us see things a little clearer. "
   ]
  },
  {
   "cell_type": "markdown",
   "metadata": {},
   "source": [
    "First, we'll do a simple graph. We can use our NEO magnitude data for our Y-axis, but we'll need an X-axis to plot it against. So let's create one by filling an array with the numbers 1 to the size of the magnitude array so every NEO is shown in our plots."
   ]
  },
  {
   "cell_type": "code",
   "execution_count": 52,
   "metadata": {},
   "outputs": [
    {
     "data": {
      "text/plain": [
       "array([  0.,   1.,   2.,   3.,   4.,   5.,   6.,   7.,   8.,   9.,  10.,\n",
       "        11.,  12.,  13.,  14.,  15.,  16.,  17.,  18.,  19.,  20.,  21.,\n",
       "        22.,  23.,  24.,  25.,  26.,  27.,  28.,  29.,  30.,  31.,  32.,\n",
       "        33.,  34.,  35.,  36.,  37.,  38.,  39.,  40.,  41.,  42.,  43.,\n",
       "        44.,  45.,  46.,  47.,  48.,  49.,  50.,  51.,  52.,  53.,  54.,\n",
       "        55.,  56.,  57.,  58.,  59.,  60.,  61.,  62.,  63.,  64.,  65.,\n",
       "        66.,  67.,  68.,  69.,  70.,  71.,  72.,  73.,  74.,  75.,  76.,\n",
       "        77.,  78.,  79.,  80.,  81.,  82.,  83.,  84.,  85.,  86.,  87.,\n",
       "        88.,  89.,  90.,  91.,  92.,  93.,  94.,  95.,  96.,  97.,  98.,\n",
       "        99., 100., 101., 102., 103., 104., 105., 106., 107., 108., 109.,\n",
       "       110., 111., 112., 113., 114., 115., 116., 117., 118., 119., 120.,\n",
       "       121., 122., 123., 124., 125., 126., 127., 128., 129., 130., 131.,\n",
       "       132., 133., 134., 135., 136., 137., 138., 139., 140., 141., 142.,\n",
       "       143., 144., 145., 146., 147., 148., 149., 150., 151., 152., 153.,\n",
       "       154., 155., 156., 157., 158., 159., 160., 161., 162., 163., 164.,\n",
       "       165., 166., 167., 168., 169., 170., 171., 172., 173., 174., 175.,\n",
       "       176., 177., 178., 179., 180.])"
      ]
     },
     "execution_count": 52,
     "metadata": {},
     "output_type": "execute_result"
    }
   ],
   "source": [
    "# First we have to import the Matplotlib library - feel free to change the name after the 'as'\n",
    "import matplotlib.pyplot as matplt\n",
    "\n",
    "# Here's how to create an empty numpy array with a specific size\n",
    "xAxis = numpy.empty(magnitude.size)\n",
    "\n",
    "for i in range(magnitude.size):\n",
    "    xAxis[i] = i\n",
    "\n",
    "xAxis"
   ]
  },
  {
   "cell_type": "markdown",
   "metadata": {},
   "source": [
    "Now that we have an X-axis, let's make a plot of the magnitudes. "
   ]
  },
  {
   "cell_type": "code",
   "execution_count": 53,
   "metadata": {},
   "outputs": [
    {
     "data": {
      "text/plain": [
       "[<matplotlib.lines.Line2D at 0x11cb6feb8>]"
      ]
     },
     "execution_count": 53,
     "metadata": {},
     "output_type": "execute_result"
    },
    {
     "data": {
      "image/png": "[encoded data removed]",
      "text/plain": [
       "<Figure size 432x288 with 1 Axes>"
      ]
     },
     "metadata": {
      "needs_background": "light"
     },
     "output_type": "display_data"
    }
   ],
   "source": [
    "matplt.plot(xAxis, magnitude)"
   ]
  },
  {
   "cell_type": "markdown",
   "metadata": {},
   "source": [
    "This allows us to more easily visualize our data. But it's still a bit hectic, so let's sort the data with numpy and then create a bar plot. "
   ]
  },
  {
   "cell_type": "code",
   "execution_count": 55,
   "metadata": {},
   "outputs": [
    {
     "data": {
      "text/plain": [
       "<BarContainer object of 181 artists>"
      ]
     },
     "execution_count": 55,
     "metadata": {},
     "output_type": "execute_result"
    },
    {
     "data": {
      "image/png": "[encoded data removed]",
      "text/plain": [
       "<Figure size 432x288 with 1 Axes>"
      ]
     },
     "metadata": {
      "needs_background": "light"
     },
     "output_type": "display_data"
    }
   ],
   "source": [
    "# Create a copy of magnitude data sorted\n",
    "sortedMag = numpy.sort(magnitude)\n",
    "\n",
    "# Create a bar plot\n",
    "matplt.bar(xAxis, sortedMag)"
   ]
  },
  {
   "cell_type": "markdown",
   "metadata": {},
   "source": [
    "But we can see that all the data is pretty high up in the graph. We don't necessarily need to have the bar start at 0 since we can look at the graph and see that all the NEOs have magnitude between about 14 and 25. So let's limit our Y-axis to those values. While we're at it, let's title our graph and label our Y-axis so that scientists looking at our nice plot can get some idea of what they're looking at. "
   ]
  },
  {
   "cell_type": "code",
   "execution_count": 57,
   "metadata": {},
   "outputs": [
    {
     "data": {
      "text/plain": [
       "<BarContainer object of 181 artists>"
      ]
     },
     "execution_count": 57,
     "metadata": {},
     "output_type": "execute_result"
    },
    {
     "data": {
      "image/png": "[encoded data removed]",
      "text/plain": [
       "<Figure size 432x288 with 1 Axes>"
      ]
     },
     "metadata": {
      "needs_background": "light"
     },
     "output_type": "display_data"
    }
   ],
   "source": [
    "matplt.ylim(14, 25)\n",
    "matplt.ylabel(\"Magnitude\")\n",
    "matplt.title(\"Magnitude of NEOs (Sorted)\")\n",
    "matplt.bar(xAxis, sortedMag)"
   ]
  },
  {
   "cell_type": "markdown",
   "metadata": {},
   "source": [
    "## Part 3 : urllib and BeautifulSoup"
   ]
  },
  {
   "cell_type": "markdown",
   "metadata": {},
   "source": [
    "Now that we have some experience processing data with Python, let's practice collecting data. As you saw in the course slides, often when we collect data we do so by going through the `HTML` of a website and only taking the parts we need. As you can imagine, this can get tedious once you do it for more than a few web pages. So let's use the maagic of Python and urllib and BeautifulSoup to do all the legwork for us.\n",
    "\n",
    "Keeping with the space theme, let's gather reviews for the video game \"Kerbal Space Program\", from the review aggregator website Metacritic. This will be very similar to what you saw in the lecture slides, but we will have to make some modifications to gather the data from Metacritic since it has a different structure. "
   ]
  },
  {
   "cell_type": "code",
   "execution_count": 31,
   "metadata": {},
   "outputs": [],
   "source": [
    "# We will have to get the html a little differently from your course slides \n",
    "# since Metacritic requires a specified user agent\n",
    "from urllib.request import Request, urlopen\n",
    "\n",
    "# Similar to your lecture slides, we will request the html from the site, but we also specify the second parameter,\n",
    "# the user agent\n",
    "req = Request(\"https://www.metacritic.com/game/pc/kerbal-space-program/user-reviews\", headers={'User-Agent': 'Mozilla/5.0'})\n",
    "\n",
    "# We read it like any other file\n",
    "html = str(urlopen(req).read())\n",
    "\n",
    "# Uncomment the next line if you want to see all the html we grab (it's a little hard to read unformatted)\n",
    "# html"
   ]
  },
  {
   "cell_type": "markdown",
   "metadata": {},
   "source": [
    "We can see that reviews are contained in blocks that begin with `<div class=\"review_grade\">`, so we'll use the `split` method to look for those blocks. "
   ]
  },
  {
   "cell_type": "code",
   "execution_count": 56,
   "metadata": {},
   "outputs": [
    {
     "data": {
      "text/plain": [
       "103"
      ]
     },
     "execution_count": 56,
     "metadata": {},
     "output_type": "execute_result"
    }
   ],
   "source": [
    "reviews = html.split('<div class=\"review_grade\">')[1:]\n",
    "len(reviews)"
   ]
  },
  {
   "cell_type": "markdown",
   "metadata": {},
   "source": [
    "Now let's gather the rating that each of these users gave the game (a scale from 1 to 10). We will do this similar to the slides you are given. "
   ]
  },
  {
   "cell_type": "code",
   "execution_count": 58,
   "metadata": {},
   "outputs": [
    {
     "data": {
      "text/plain": [
       "[{'rating': '10'},\n",
       " {'rating': '10'},\n",
       " {'rating': '8'},\n",
       " {'rating': '6'},\n",
       " {'rating': '10'},\n",
       " {'rating': '10'},\n",
       " {'rating': '10'},\n",
       " {'rating': '10'},\n",
       " {'rating': '10'},\n",
       " {'rating': '10'},\n",
       " {'rating': '10'},\n",
       " {'rating': '10'},\n",
       " {'rating': '10'},\n",
       " {'rating': '10'},\n",
       " {'rating': '10'},\n",
       " {'rating': '10'},\n",
       " {'rating': '10'},\n",
       " {'rating': '9'},\n",
       " {'rating': '10'},\n",
       " {'rating': '10'},\n",
       " {'rating': '10'},\n",
       " {'rating': '10'},\n",
       " {'rating': '10'},\n",
       " {'rating': '10'},\n",
       " {'rating': '10'},\n",
       " {'rating': '10'},\n",
       " {'rating': '10'},\n",
       " {'rating': '9'},\n",
       " {'rating': '10'},\n",
       " {'rating': '10'},\n",
       " {'rating': '10'},\n",
       " {'rating': '10'},\n",
       " {'rating': '10'},\n",
       " {'rating': '10'},\n",
       " {'rating': '10'},\n",
       " {'rating': '10'},\n",
       " {'rating': '10'},\n",
       " {'rating': '9'},\n",
       " {'rating': '10'},\n",
       " {'rating': '10'},\n",
       " {'rating': '10'},\n",
       " {'rating': '10'},\n",
       " {'rating': '10'},\n",
       " {'rating': '10'},\n",
       " {'rating': '9'},\n",
       " {'rating': '10'},\n",
       " {'rating': '8'},\n",
       " {'rating': '10'},\n",
       " {'rating': '10'},\n",
       " {'rating': '6'},\n",
       " {'rating': '10'},\n",
       " {'rating': '10'},\n",
       " {'rating': '9'},\n",
       " {'rating': '10'},\n",
       " {'rating': '10'},\n",
       " {'rating': '10'},\n",
       " {'rating': '10'},\n",
       " {'rating': '1'},\n",
       " {'rating': '9'},\n",
       " {'rating': '2'},\n",
       " {'rating': '10'},\n",
       " {'rating': '1'},\n",
       " {'rating': '1'},\n",
       " {'rating': '7'},\n",
       " {'rating': '10'},\n",
       " {'rating': '10'},\n",
       " {'rating': '7'},\n",
       " {'rating': '10'},\n",
       " {'rating': '10'},\n",
       " {'rating': '10'},\n",
       " {'rating': '9'},\n",
       " {'rating': '8'},\n",
       " {'rating': '10'},\n",
       " {'rating': '10'},\n",
       " {'rating': '10'},\n",
       " {'rating': '6'},\n",
       " {'rating': '3'},\n",
       " {'rating': '10'},\n",
       " {'rating': '10'},\n",
       " {'rating': '9'},\n",
       " {'rating': '6'},\n",
       " {'rating': '10'},\n",
       " {'rating': '9'},\n",
       " {'rating': '2'},\n",
       " {'rating': '9'},\n",
       " {'rating': '10'},\n",
       " {'rating': '8'},\n",
       " {'rating': '10'},\n",
       " {'rating': '9'},\n",
       " {'rating': '9'},\n",
       " {'rating': '9'},\n",
       " {'rating': '10'},\n",
       " {'rating': '10'},\n",
       " {'rating': '8'},\n",
       " {'rating': '10'},\n",
       " {'rating': '8'},\n",
       " {'rating': '8'},\n",
       " {'rating': '10'},\n",
       " {'rating': '10'},\n",
       " {'rating': '10'},\n",
       " {'rating': '100'},\n",
       " {'rating': '92'},\n",
       " {'rating': '80'}]"
      ]
     },
     "execution_count": 58,
     "metadata": {},
     "output_type": "execute_result"
    }
   ],
   "source": [
    "def parseReview(review):\n",
    "    d = {}\n",
    "    # To get the rating, we have to be careful.\n",
    "    # Not every rating has the same html classes right before the rating, but it does have the same html right after (a closing </div>).\n",
    "    # To get around this, we use split to just grab everything between the two tags, i.e. everything between > and </div>.\n",
    "    d['rating'] = review.split('>')[1].split('</div')[0]\n",
    "    return d\n",
    "\n",
    "reviewDict = [parseReview(r) for r in reviews]\n",
    "reviewDict"
   ]
  },
  {
   "cell_type": "markdown",
   "metadata": {},
   "source": [
    "And that's it! We've successfully extracted our own dataset from these user reviews! You are encouraged to modify the code to add more parameters, such as the display name of each reviewer, or gather the text portion of their review. For help with that, follow the lecture slides and use your knowledge of Python to modify the `parseReview()` method. You should also combine what you learned about urllib with the other parts of this HW. For example, try using matplotlib to visualize the ratings we collected."
   ]
  }
 ],
 "metadata": {
  "kernelspec": {
   "display_name": "Python 3",
   "language": "python",
   "name": "python3"
  },
  "language_info": {
   "codemirror_mode": {
    "name": "ipython",
    "version": 3
   },
   "file_extension": ".py",
   "mimetype": "text/x-python",
   "name": "python",
   "nbconvert_exporter": "python",
   "pygments_lexer": "ipython3",
   "version": "3.6.5"
  }
 },
 "nbformat": 4,
 "nbformat_minor": 2
}
